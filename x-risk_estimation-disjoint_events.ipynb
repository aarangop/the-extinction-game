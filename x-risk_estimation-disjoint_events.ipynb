{
 "cells": [
  {
   "cell_type": "markdown",
   "metadata": {},
   "source": [
    "# X-Risk Estimation\n",
    "\n",
    "In the notebook [xrisk-database-processing]('./xrisk-database-processing.ipynb'), we processed the X-Risk estimation \"database\" from the EA Forum.\n",
    "\n",
    "Here we take that data and create a risk model.\n",
    "\n",
    "The goal is to create a risk model to estimate future risk, and tackle the question of \"how long do we expect to still be around?\".\n"
   ]
  },
  {
   "cell_type": "markdown",
   "metadata": {},
   "source": [
    "## The Model\n",
    "\n",
    "We're going to model risk and survival probability using a probability cascade.\n",
    "\n",
    "We can formulate this as a \"game\", namely the \"extinction game\", to be more dramatic. In this game humanity *wins* and gets to play again, or it *loses* and doesn't get to play again. What exactly it means to lose is debatable, it could either mean civilization collapse, or extinction. However, the most generic scenario is one where humanity's potential to flourish is destroyed. This could mean either full-fledged extinction, or it could be the establishment of ultra stable dystopia, or civilization's collapse without the ability to recover."
   ]
  },
  {
   "cell_type": "markdown",
   "metadata": {},
   "source": [
    "### Correlated Existential Risks\n",
    "\n",
    "### Definitions\n",
    "\n",
    "Let:\n",
    "- $x_i(t)$ = risk from source $i$ in period $t$\n",
    "- $X(t)$ = total existential risk in period $t$\n",
    "- $\\rho_{ij}$ = correlation coefficient between risks $i$ and $j$\n",
    "- $n$ = number of risk sources (6 in our case)\n",
    "- $\\Sigma$ = correlation matrix with entries $\\rho_{ij}$\n",
    "\n",
    "Our risk sources are:\n",
    "1. AI ($x_1$)\n",
    "2. Nuclear ($x_2$)\n",
    "3. Bio ($x_3$)\n",
    "4. Natural ($x_4$)\n",
    "5. Climate ($x_5$)\n",
    "6. Dystopia ($x_6$)\n",
    "\n",
    "## Base Risk Values (by 2100)\n",
    "$x_1 = 0.10$ (AI)\n",
    "$x_2 = 0.01$ (Nuclear)\n",
    "$x_3 = 0.025$ (Bio)\n",
    "$x_4 = 0.0001$ (Natural)\n",
    "$x_5 = 0.001$ (Climate)\n",
    "$x_6 = 0.05$ (Dystopia)\n",
    "\n",
    "## Correlation Matrix\n",
    "$\\Sigma = \\begin{pmatrix} \n",
    "1.0 & 0.3 & 0.4 & -0.3 & 0.2 & 0.7 \\\\\n",
    "0.3 & 1.0 & 0.6 & 0.2 & 0.6 & 0.8 \\\\\n",
    "0.4 & 0.6 & 1.0 & 0.4 & 0.5 & 0.7 \\\\\n",
    "-0.3 & 0.2 & 0.4 & 1.0 & 0.8 & 0.5 \\\\\n",
    "0.2 & 0.6 & 0.5 & 0.8 & 1.0 & 0.7 \\\\\n",
    "0.7 & 0.8 & 0.7 & 0.5 & 0.7 & 1.0\n",
    "\\end{pmatrix}$\n",
    "\n",
    "## Single Period Risk\n",
    "\n",
    "For independent risks:\n",
    "$X_{ind}(t) = 1 - \\prod_{i=1}^n (1 - x_i(t))$\n",
    "\n",
    "For correlated risks using a Gaussian copula:\n",
    "$X(t) = 1 - C(1-x_1(t), 1-x_2(t), ..., 1-x_n(t); \\Sigma)$\n",
    "\n",
    "where $C$ is the Gaussian copula:\n",
    "$C(u_1,...,u_n;\\Sigma) = \\Phi_\\Sigma(\\Phi^{-1}(u_1),...,\\Phi^{-1}(u_n))$\n",
    "\n",
    "Here:\n",
    "- $\\Phi_\\Sigma$ is the multivariate normal CDF with correlation matrix $\\Sigma$\n",
    "- $\\Phi^{-1}$ is the inverse of the standard normal CDF\n",
    "\n",
    "## Multi-Period Survival\n",
    "\n",
    "Probability of survival through $T$ periods:\n",
    "$P(\\text{survival through }T\\text{ periods}) = \\prod_{t=1}^T (1 - X(t))$\n",
    "\n",
    "Expected survival time:\n",
    "$E[T] = \\sum_{t=1}^{\\infty} t \\cdot P(\\text{survival exactly }t\\text{ periods})$\n",
    "\n",
    "where:\n",
    "$P(\\text{survival exactly }t\\text{ periods}) = (1-X(t))^{t-1} \\cdot X(t)$"
   ]
  },
  {
   "cell_type": "markdown",
   "metadata": {},
   "source": []
  }
 ],
 "metadata": {
  "kernelspec": {
   "display_name": ".venv",
   "language": "python",
   "name": "python3"
  },
  "language_info": {
   "codemirror_mode": {
    "name": "ipython",
    "version": 3
   },
   "file_extension": ".py",
   "mimetype": "text/x-python",
   "name": "python",
   "nbconvert_exporter": "python",
   "pygments_lexer": "ipython3",
   "version": "3.12.4"
  }
 },
 "nbformat": 4,
 "nbformat_minor": 2
}
