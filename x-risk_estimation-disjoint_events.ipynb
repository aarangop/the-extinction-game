{
 "cells": [
  {
   "cell_type": "markdown",
   "metadata": {},
   "source": [
    "# X-Risk Estimation\n",
    "\n",
    "In the notebook [xrisk-database-processing]('./xrisk-database-processing.ipynb'), we processed the X-Risk estimation \"database\" from the EA Forum.\n",
    "\n",
    "Here we take that data and create a risk model.\n",
    "\n",
    "The goal is to create a risk model to estimate future risk, and tackle the question of \"how long do we expect to still be around?\".\n"
   ]
  },
  {
   "cell_type": "markdown",
   "metadata": {},
   "source": [
    "## X-Risk Estimates\n",
    "\n",
    "Before getting started, we'll go through the data from the existential risk database."
   ]
  },
  {
   "cell_type": "code",
   "execution_count": 8,
   "metadata": {},
   "outputs": [],
   "source": [
    "# Imports\n",
    "import matplotlib.pyplot as plt\n",
    "import numpy as np\n",
    "import seaborn as srs\n",
    "import pandas as pd\n",
    "\n",
    "# Setup matplotlib backend\n",
    "%matplotlib inline\n",
    "\n",
    "# Setup seaborn\n",
    "srs.set_theme()"
   ]
  },
  {
   "cell_type": "code",
   "execution_count": 11,
   "metadata": {},
   "outputs": [
    {
     "name": "stdout",
     "output_type": "stream",
     "text": [
      "<class 'pandas.core.frame.DataFrame'>\n",
      "RangeIndex: 83 entries, 0 to 82\n",
      "Data columns (total 9 columns):\n",
      " #   Column                         Non-Null Count  Dtype  \n",
      "---  ------                         --------------  -----  \n",
      " 0   estimator                      83 non-null     object \n",
      " 1   original_estimate              83 non-null     object \n",
      " 2   per_century_risk               83 non-null     float64\n",
      " 3   estimate_confidence            83 non-null     object \n",
      " 4   conversion_confidence          83 non-null     object \n",
      " 5   reasoning                      83 non-null     object \n",
      " 6   risk_category                  83 non-null     object \n",
      " 7   estimate_confidence_numeric    83 non-null     int64  \n",
      " 8   conversion_confidence_numeric  83 non-null     int64  \n",
      "dtypes: float64(1), int64(2), object(6)\n",
      "memory usage: 6.0+ KB\n"
     ]
    }
   ],
   "source": [
    "# Load x-risk database estimates\n",
    "df = pd.read_csv('./data/processed_estimates/all_estimates.csv')\n",
    "df.info()"
   ]
  },
  {
   "cell_type": "markdown",
   "metadata": {},
   "source": []
  },
  {
   "cell_type": "code",
   "execution_count": null,
   "metadata": {},
   "outputs": [],
   "source": []
  },
  {
   "cell_type": "markdown",
   "metadata": {},
   "source": [
    "## Motivation\n",
    "\n",
    "Matters such as the extinction risk of humans are kind of a big deal, I find. And what these estimates do is reduce those complex matters to a number, a number that is comparable to the odds of your favorite team, or a horse winning a race. It might trivialize the odds, and it might give us a false sense of security.\n",
    "\n",
    "These estimates are good for us to gauge our current risk of peril, but I find that looking at them in the context of humanity's potential future would be a good way to put things into perspective. It might give us a much-needed sense of urgency to reduce existential risk, and it might help us to prioritize.\n",
    "\n",
    "So this is a little experiment to play around with the math, and see what comes out, maybe an interesting insight, and if not, at least it was fun."
   ]
  },
  {
   "cell_type": "markdown",
   "metadata": {},
   "source": [
    "\n",
    "## The Problem\n",
    "\n",
    "Given that [humanity's potential to flourish is so incredibly vast](https://thoughtroamer.substack.com/p/the-extinction-game), what are our odds of fulfilling that potential? What are the odds that we peril before reaching that potential?\n",
    "\n",
    "We want to embark in an exploration into existential risk. Particularly, we want to investigate how long we can expect humanity to still be around, given different existential risk levels. We can, of course, use current existential risk estimates, and see where that takes us, and we can also use varying levels, to see what would happen if we let them increase or if we get to work and successfully reduce them."
   ]
  },
  {
   "cell_type": "markdown",
   "metadata": {},
   "source": [
    "## The Extinction Game\n",
    "\n",
    "Here, we will try to model the problem in different ways, starting from simple models to more complex ones.\n",
    "\n",
    "Broadly the whole modeling is based on what I call \"The Extinction Game\" - yes, it's a dramatic subject. It's a game that involves the whole of humanity. In it, humanity *wins* and goes on for a long time full of flourishing and fulfilling its potential, or it *loses*, destroying its potential to flourish.\n",
    "\n",
    "What exactly means to lose is debatable; it could either mean civilization's collapse, or extinction. However, the most generic scenario is one where *humanity's potential to flourish* is destroyed. This could be either due to full-fledged extinction, or it could be the establishment of an ultra stable dystopia that lasts for millions of years, or civilization's collapse without the ability to recover, but not necessarily the extinction of Homo Sapiens.\n",
    "\n",
    "For brevity and clarity I'll use the term \"extinction\" to refer to the *losing* scenarios, even though it isn't necessarily synonymous with extinction."
   ]
  },
  {
   "cell_type": "markdown",
   "metadata": {},
   "source": [
    "\n",
    "### Level 1 - Constant Total Risk\n",
    "\n",
    "This is the simplest model. In it, humanity's existential risk is modeled as a probability cascade, where the extinction game is played every century, and every century is independent - meaning that the outcome in one century doesn't affect the game in other centuries. So we use a constant figure for total risk.\n",
    "\n",
    "To describe the problem we introduce the following events and expressions:\n",
    "\n",
    "$$\n",
    "\\begin{align}\n",
    "E&: \\text{Extinction in a given century} \\\\ \n",
    "S&: \\text{Survival in a given century} \\\\\n",
    "P(E)&: \\text{Probability of extinction in a given century} \\rightarrow \\text{Existential risk per century}\\\\\n",
    "P(S)&: \\text{Probability of survival in a given century} \\\\\n",
    "X_n&: \\text{Probability of extinction after } n \\text{ periods (centuries)}\n",
    "\\end{align}\n",
    "$$\n",
    "\n",
    "Since the risk remains constant for each game, we are interested in the probabilities of still being around for, say 1000 years, or one million, or one billion.\n",
    "\n",
    "We can describe the probability of being around for $n$ centuries by computing the odds that we don't get extinct for $n$ centuries in a row. We can assume that once the game is lost, it cannot be played again, so we're only interested in the scenario where survival is the outcome of every game.\n",
    "\n",
    "$$\n",
    "\\begin{align}\n",
    "P(X_n) = P(S)^n = [1-P(E)]^n\n",
    "\\end{align}\n",
    "$$"
   ]
  },
  {
   "cell_type": "code",
   "execution_count": null,
   "metadata": {},
   "outputs": [],
   "source": [
    "# Implement simple constant risk model\n",
    "def probability_of_survival_after_n_centuries(n, xrisk):\n",
    "    return (1 - xrisk) ** n"
   ]
  },
  {
   "cell_type": "code",
   "execution_count": null,
   "metadata": {},
   "outputs": [],
   "source": [
    "\n",
    "# Plot the probability of survival after 10 centuries\n",
    "n = np.arange(0, 100)\n",
    "xrisk = 0.01"
   ]
  },
  {
   "cell_type": "markdown",
   "metadata": {},
   "source": [
    "### Correlated Existential Risks\n",
    "\n",
    "### Definitions\n",
    "\n",
    "Let:\n",
    "- $x_i(t)$ = risk from source $i$ in period $t$\n",
    "- $X(t)$ = total existential risk in period $t$\n",
    "- $\\rho_{ij}$ = correlation coefficient between risks $i$ and $j$\n",
    "- $n$ = number of risk sources (6 in our case)\n",
    "- $\\Sigma$ = correlation matrix with entries $\\rho_{ij}$\n",
    "\n",
    "Our risk sources are:\n",
    "1. AI ($x_1$)\n",
    "2. Nuclear ($x_2$)\n",
    "3. Bio ($x_3$)\n",
    "4. Natural ($x_4$)\n",
    "5. Climate ($x_5$)\n",
    "6. Dystopia ($x_6$)\n",
    "\n",
    "## Base Risk Values (by 2100)\n",
    "$x_1 = 0.10$ (AI)\n",
    "$x_2 = 0.01$ (Nuclear)\n",
    "$x_3 = 0.025$ (Bio)\n",
    "$x_4 = 0.0001$ (Natural)\n",
    "$x_5 = 0.001$ (Climate)\n",
    "$x_6 = 0.05$ (Dystopia)\n",
    "\n",
    "## Correlation Matrix\n",
    "$\\Sigma = \\begin{pmatrix} \n",
    "1.0 & 0.3 & 0.4 & -0.3 & 0.2 & 0.7 \\\\\n",
    "0.3 & 1.0 & 0.6 & 0.2 & 0.6 & 0.8 \\\\\n",
    "0.4 & 0.6 & 1.0 & 0.4 & 0.5 & 0.7 \\\\\n",
    "-0.3 & 0.2 & 0.4 & 1.0 & 0.8 & 0.5 \\\\\n",
    "0.2 & 0.6 & 0.5 & 0.8 & 1.0 & 0.7 \\\\\n",
    "0.7 & 0.8 & 0.7 & 0.5 & 0.7 & 1.0\n",
    "\\end{pmatrix}$\n",
    "\n",
    "## Single Period Risk\n",
    "\n",
    "For independent risks:\n",
    "$X_{ind}(t) = 1 - \\prod_{i=1}^n (1 - x_i(t))$\n",
    "\n",
    "For correlated risks using a Gaussian copula:\n",
    "$X(t) = 1 - C(1-x_1(t), 1-x_2(t), ..., 1-x_n(t); \\Sigma)$\n",
    "\n",
    "where $C$ is the Gaussian copula:\n",
    "$C(u_1,...,u_n;\\Sigma) = \\Phi_\\Sigma(\\Phi^{-1}(u_1),...,\\Phi^{-1}(u_n))$\n",
    "\n",
    "Here:\n",
    "- $\\Phi_\\Sigma$ is the multivariate normal CDF with correlation matrix $\\Sigma$\n",
    "- $\\Phi^{-1}$ is the inverse of the standard normal CDF\n",
    "\n",
    "## Multi-Period Survival\n",
    "\n",
    "Probability of survival through $T$ periods:\n",
    "$P(\\text{survival through }T\\text{ periods}) = \\prod_{t=1}^T (1 - X(t))$\n",
    "\n",
    "Expected survival time:\n",
    "$E[T] = \\sum_{t=1}^{\\infty} t \\cdot P(\\text{survival exactly }t\\text{ periods})$\n",
    "\n",
    "where:\n",
    "$P(\\text{survival exactly }t\\text{ periods}) = (1-X(t))^{t-1} \\cdot X(t)$"
   ]
  }
 ],
 "metadata": {
  "kernelspec": {
   "display_name": ".venv",
   "language": "python",
   "name": "python3"
  },
  "language_info": {
   "codemirror_mode": {
    "name": "ipython",
    "version": 3
   },
   "file_extension": ".py",
   "mimetype": "text/x-python",
   "name": "python",
   "nbconvert_exporter": "python",
   "pygments_lexer": "ipython3",
   "version": "3.12.4"
  }
 },
 "nbformat": 4,
 "nbformat_minor": 2
}
